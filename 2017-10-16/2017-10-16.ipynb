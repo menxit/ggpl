{
 "cells": [
  {
   "cell_type": "markdown",
   "metadata": {},
   "source": [
    "# Laboratorio 2017-10-16"
   ]
  },
  {
   "cell_type": "markdown",
   "metadata": {},
   "source": [
    "# Numpy\n",
    "Numpy è una libreria matematica che permette di effettuare varie operazioni matematiche. Di seguito alcuni esempi d'uso:"
   ]
  },
  {
   "cell_type": "code",
   "execution_count": 1,
   "metadata": {
    "collapsed": true
   },
   "outputs": [],
   "source": [
    "import numpy as np"
   ]
  },
  {
   "cell_type": "code",
   "execution_count": 2,
   "metadata": {},
   "outputs": [
    {
     "data": {
      "text/plain": [
       "array([0, 1, 2, 3, 4, 5, 6, 7, 8, 9])"
      ]
     },
     "execution_count": 2,
     "metadata": {},
     "output_type": "execute_result"
    }
   ],
   "source": [
    "v = np.arange(10)\n",
    "v"
   ]
  },
  {
   "cell_type": "code",
   "execution_count": 3,
   "metadata": {},
   "outputs": [
    {
     "data": {
      "text/plain": [
       "array([[0, 1],\n",
       "       [2, 3],\n",
       "       [4, 5],\n",
       "       [6, 7],\n",
       "       [8, 9]])"
      ]
     },
     "execution_count": 3,
     "metadata": {},
     "output_type": "execute_result"
    }
   ],
   "source": [
    "v = v.reshape(5,2)\n",
    "v"
   ]
  },
  {
   "cell_type": "code",
   "execution_count": 4,
   "metadata": {},
   "outputs": [
    {
     "data": {
      "text/plain": [
       "array([ 0.  ,  0.25,  0.5 ,  0.75,  1.  ,  1.25,  1.5 ,  1.75,  2.  ])"
      ]
     },
     "execution_count": 4,
     "metadata": {},
     "output_type": "execute_result"
    }
   ],
   "source": [
    "v = np.linspace(0, 2, 9)\n",
    "v"
   ]
  },
  {
   "cell_type": "code",
   "execution_count": 5,
   "metadata": {},
   "outputs": [
    {
     "data": {
      "text/plain": [
       "array([ 0.        ,  0.24740396,  0.47942554,  0.68163876,  0.84147098,\n",
       "        0.94898462,  0.99749499,  0.98398595,  0.90929743])"
      ]
     },
     "execution_count": 5,
     "metadata": {},
     "output_type": "execute_result"
    }
   ],
   "source": [
    "v = np.sin(v)\n",
    "v"
   ]
  },
  {
   "cell_type": "code",
   "execution_count": 6,
   "metadata": {},
   "outputs": [
    {
     "data": {
      "text/plain": [
       "0.5210865305623954"
      ]
     },
     "execution_count": 6,
     "metadata": {},
     "output_type": "execute_result"
    }
   ],
   "source": [
    "n = np.random.uniform(0, 2*np.pi)\n",
    "n"
   ]
  },
  {
   "cell_type": "code",
   "execution_count": 7,
   "metadata": {},
   "outputs": [
    {
     "data": {
      "text/plain": [
       "array([ 0.25404885,  0.60222739,  0.73962081,  0.92045192,  0.81511413,\n",
       "        0.4514217 ,  0.99168582,  0.45649259,  0.00561888,  0.55007677])"
      ]
     },
     "execution_count": 7,
     "metadata": {},
     "output_type": "execute_result"
    }
   ],
   "source": [
    "v = np.random.random(10)\n",
    "v"
   ]
  },
  {
   "cell_type": "code",
   "execution_count": 8,
   "metadata": {},
   "outputs": [
    {
     "data": {
      "text/plain": [
       "array([ 0.23549515, -0.37814518,  0.27325901,  0.66140807,  0.78613876,\n",
       "       -0.04567506,  0.67712889,  0.34692113, -0.09971398,  0.13803715])"
      ]
     },
     "execution_count": 8,
     "metadata": {},
     "output_type": "execute_result"
    }
   ],
   "source": [
    "v = v - np.random.random(10)\n",
    "v"
   ]
  },
  {
   "cell_type": "code",
   "execution_count": 9,
   "metadata": {},
   "outputs": [
    {
     "data": {
      "text/plain": [
       "array([[ 0.23549515, -0.37814518],\n",
       "       [ 0.27325901,  0.66140807],\n",
       "       [ 0.78613876, -0.04567506],\n",
       "       [ 0.67712889,  0.34692113],\n",
       "       [-0.09971398,  0.13803715]])"
      ]
     },
     "execution_count": 9,
     "metadata": {},
     "output_type": "execute_result"
    }
   ],
   "source": [
    "v = v.reshape(5,2)\n",
    "v"
   ]
  },
  {
   "cell_type": "code",
   "execution_count": 10,
   "metadata": {},
   "outputs": [
    {
     "data": {
      "text/plain": [
       "array([ 0.23549515, -0.37814518,  0.27325901,  0.66140807,  0.78613876,\n",
       "       -0.04567506,  0.67712889,  0.34692113, -0.09971398,  0.13803715])"
      ]
     },
     "execution_count": 10,
     "metadata": {},
     "output_type": "execute_result"
    }
   ],
   "source": [
    "v = v.ravel()\n",
    "v"
   ]
  },
  {
   "cell_type": "markdown",
   "metadata": {},
   "source": [
    "## Assignment 1\n",
    "Produce (and draw) 100 random points within the unit square $ [0, 1]^2 $"
   ]
  },
  {
   "cell_type": "code",
   "execution_count": 11,
   "metadata": {},
   "outputs": [
    {
     "name": "stdout",
     "output_type": "stream",
     "text": [
      "Evaluating fenvs.py..\n",
      "...fenvs.py imported in 0.005188 seconds\n"
     ]
    },
    {
     "data": {
      "text/plain": [
       "<pyplasm.xgepy.Hpc; proxy of <Swig Object of type 'std::shared_ptr< Hpc > *' at 0x113f9d1e0> >"
      ]
     },
     "execution_count": 11,
     "metadata": {},
     "output_type": "execute_result"
    }
   ],
   "source": [
    "from larlib import *\n",
    "\n",
    "random_numbers = [np.random.random(2) for i in np.arange(1000)]\n",
    "\n",
    "VIEW(STRUCT(map(MK, random_numbers)))"
   ]
  },
  {
   "cell_type": "markdown",
   "metadata": {},
   "source": [
    "![square](images/square.jpeg)"
   ]
  },
  {
   "cell_type": "markdown",
   "metadata": {},
   "source": [
    "## Assignment 2\n",
    "Produce (and draw) 1000 random points within $ S_1 $, the $1D$ sphere (circle) of unit radius centered at the origin $(0, 0)$"
   ]
  },
  {
   "cell_type": "code",
   "execution_count": 12,
   "metadata": {},
   "outputs": [
    {
     "data": {
      "text/plain": [
       "<pyplasm.xgepy.Hpc; proxy of <Swig Object of type 'std::shared_ptr< Hpc > *' at 0x117926690> >"
      ]
     },
     "execution_count": 12,
     "metadata": {},
     "output_type": "execute_result"
    }
   ],
   "source": [
    "def random_point_circle():\n",
    "    x = np.random.uniform(-1, 1)\n",
    "    y = np.random.uniform(-sqrt(1-x**2), sqrt(1-x**2))\n",
    "    return x, y\n",
    "\n",
    "\n",
    "VIEW(STRUCT(map(MK, [random_point_circle() for i in np.arange(10000)])))\n"
   ]
  },
  {
   "cell_type": "markdown",
   "metadata": {},
   "source": [
    "![circle](images/circle.jpeg)"
   ]
  },
  {
   "cell_type": "markdown",
   "metadata": {},
   "source": [
    "## Start using “LarLib” with simplicial complexes"
   ]
  },
  {
   "cell_type": "markdown",
   "metadata": {},
   "source": [
    "### larSimplexFacets"
   ]
  },
  {
   "cell_type": "code",
   "execution_count": 13,
   "metadata": {
    "collapsed": true
   },
   "outputs": [],
   "source": [
    "def larSimplexFacets(simplices):\n",
    "    out = []\n",
    "    d = len(simplices[0])\n",
    "    for simplex in simplices:\n",
    "        out += AA(sorted)(\n",
    "            [simplex[0:k]+simplex[k+1:d] for k in range(d)])\n",
    "    out = set(AA(tuple)(out))\n",
    "    return  sorted(out)"
   ]
  },
  {
   "cell_type": "markdown",
   "metadata": {},
   "source": [
    "#### Example 1"
   ]
  },
  {
   "cell_type": "code",
   "execution_count": 14,
   "metadata": {},
   "outputs": [
    {
     "data": {
      "text/plain": [
       "[(1, 2), (1, 4), (2, 3), (2, 4), (2, 5), (3, 5), (4, 5)]"
      ]
     },
     "execution_count": 14,
     "metadata": {},
     "output_type": "execute_result"
    }
   ],
   "source": [
    "simplices = [[1,2,4],[2,4,5],[2,3,5]]\n",
    "larSimplexFacets(simplices)"
   ]
  },
  {
   "cell_type": "markdown",
   "metadata": {},
   "source": [
    "#### Example 2"
   ]
  },
  {
   "cell_type": "code",
   "execution_count": 15,
   "metadata": {},
   "outputs": [
    {
     "data": {
      "text/plain": [
       "<pyplasm.xgepy.Hpc; proxy of <Swig Object of type 'std::shared_ptr< Hpc > *' at 0x113e94ea0> >"
      ]
     },
     "execution_count": 15,
     "metadata": {},
     "output_type": "execute_result"
    }
   ],
   "source": [
    "V = [[0,0], [0,1],[2,0],[4,0],[1.5,3],[3.5,2.5]]\n",
    "FV = simplices\n",
    "model = V,FV\n",
    "VIEW(STRUCT(MKPOLS(model)))\n",
    "VIEW(SKEL_1(STRUCT(MKPOLS(model))))\n",
    "EV = larSimplexFacets(FV)\n",
    "VIEW(STRUCT(MKPOLS((V,EV))))"
   ]
  },
  {
   "cell_type": "markdown",
   "metadata": {},
   "source": [
    "![larSimplexFacets-example1](images/larSimplexFacets-example1.jpeg)"
   ]
  },
  {
   "cell_type": "markdown",
   "metadata": {},
   "source": [
    "### larExtrude1"
   ]
  },
  {
   "cell_type": "code",
   "execution_count": 16,
   "metadata": {
    "collapsed": true
   },
   "outputs": [],
   "source": [
    "def larExtrude1(model,pattern):\n",
    "    \"\"\" Simplicial model extrusion in accord with a 1D pattern \"\"\"\n",
    "    V, FV = model\n",
    "    d, m = len(FV[0]), len(pattern)\n",
    "    coords = list(cumsum([0]+(AA(ABS)(pattern))))\n",
    "    offset, outcells, rangelimit = len(V), [], d*m\n",
    "    for cell in FV:\n",
    "            tube = [v + k*offset for k in range(m+1) for v in cell]\n",
    "            cellTube = [tube[k:k+d+1] for k in range(rangelimit)]\n",
    "            outcells += [reshape(cellTube, newshape=(m,d,d+1)).tolist()]\n",
    "    outcells = AA(CAT)(TRANS(outcells))\n",
    "    cellGroups = [group for k,group in enumerate(outcells) if pattern[k]>0]\n",
    "    outVertices = [v+[z] for z in coords for v in V]\n",
    "    outModel = outVertices, CAT(cellGroups)\n",
    "    return outModel"
   ]
  },
  {
   "cell_type": "markdown",
   "metadata": {},
   "source": [
    "#### Example 1"
   ]
  },
  {
   "cell_type": "code",
   "execution_count": 17,
   "metadata": {},
   "outputs": [
    {
     "data": {
      "text/plain": [
       "<pyplasm.xgepy.Hpc; proxy of <Swig Object of type 'std::shared_ptr< Hpc > *' at 0x1171c0120> >"
      ]
     },
     "execution_count": 17,
     "metadata": {},
     "output_type": "execute_result"
    }
   ],
   "source": [
    "V = [[0,0],[1,0],[2,0],[0,1],[1,1],[2,1],[0,2],[1,2],[2,2]]\n",
    "FV = [[0,1,3],[1,2,4],[2,4,5],[3,4,6],[4,6,7],[5,7,8]]\n",
    "model = larExtrude1((V,FV),4*[1,2,-3])\n",
    "VIEW(EXPLODE(1,1,1.2)(MKPOLS(model)))"
   ]
  },
  {
   "cell_type": "markdown",
   "metadata": {},
   "source": [
    "#### Example 2"
   ]
  },
  {
   "cell_type": "code",
   "execution_count": 18,
   "metadata": {},
   "outputs": [
    {
     "data": {
      "text/plain": [
       "<pyplasm.xgepy.Hpc; proxy of <Swig Object of type 'std::shared_ptr< Hpc > *' at 0x113e94f90> >"
      ]
     },
     "execution_count": 18,
     "metadata": {},
     "output_type": "execute_result"
    }
   ],
   "source": [
    "model = larExtrude1( VOID, 10*[1] )\n",
    "VIEW(EXPLODE(1.5,1.5,1.5)(MKPOLS(model)))\n",
    "model = larExtrude1( model, 10*[1] )\n",
    "VIEW(EXPLODE(1.5,1.5,1.5)(MKPOLS(model)))\n",
    "model = larExtrude1( model, 10*[1] )\n",
    "VIEW(EXPLODE(1.5,1.5,1.5)(MKPOLS(model)))"
   ]
  },
  {
   "cell_type": "markdown",
   "metadata": {},
   "source": [
    "#### Example 3"
   ]
  },
  {
   "cell_type": "code",
   "execution_count": 19,
   "metadata": {},
   "outputs": [
    {
     "data": {
      "text/plain": [
       "<pyplasm.xgepy.Hpc; proxy of <Swig Object of type 'std::shared_ptr< Hpc > *' at 0x113f9d930> >"
      ]
     },
     "execution_count": 19,
     "metadata": {},
     "output_type": "execute_result"
    }
   ],
   "source": [
    "model = larExtrude1( VOID, 10*[1,-1] )\n",
    "VIEW(EXPLODE(1.5,1.5,1.5)(MKPOLS(model)))\n",
    "model = larExtrude1( model, 10*[1] )\n",
    "VIEW(EXPLODE(1.5,1.5,1.5)(MKPOLS(model)))"
   ]
  },
  {
   "cell_type": "code",
   "execution_count": 20,
   "metadata": {
    "collapsed": true
   },
   "outputs": [],
   "source": [
    "quit()"
   ]
  }
 ],
 "metadata": {
  "kernelspec": {
   "display_name": "Python 2",
   "language": "python",
   "name": "python2"
  },
  "language_info": {
   "codemirror_mode": {
    "name": "ipython",
    "version": 2
   },
   "file_extension": ".py",
   "mimetype": "text/x-python",
   "name": "python",
   "nbconvert_exporter": "python",
   "pygments_lexer": "ipython2",
   "version": "2.7.13"
  }
 },
 "nbformat": 4,
 "nbformat_minor": 2
}
