{
 "cells": [
  {
   "cell_type": "markdown",
   "metadata": {},
   "source": [
    "# Laboratorio 2017-10-30\n",
    "\n",
    "In questo homework è stato realizzato un armadio basato su PyPlasm. L'armadio è parametrizzato sulla base dei seguenti valori:\n",
    "\n",
    "- altezza dell'armadio\n",
    "- larghezza dell'armadio\n",
    "- prododità dell'armadio\n",
    "- numero di ante\n",
    "- numero di ripiani\n",
    "- spessore del legno"
   ]
  },
  {
   "cell_type": "markdown",
   "metadata": {},
   "source": [
    "![armadio](assets/armadio.png)"
   ]
  },
  {
   "cell_type": "markdown",
   "metadata": {},
   "source": [
    "![armadio](assets/maniglia.png)"
   ]
  },
  {
   "cell_type": "code",
   "execution_count": null,
   "metadata": {},
   "outputs": [
    {
     "name": "stdout",
     "output_type": "stream",
     "text": [
      "Evaluating fenvs.py..\n",
      "...fenvs.py imported in 0.00503 seconds\n"
     ]
    }
   ],
   "source": [
    "from pyplasm import VIEW\n",
    "from lib.armadio import composizione_armadio\n",
    "\n",
    "VIEW(composizione_armadio())"
   ]
  }
 ],
 "metadata": {
  "kernelspec": {
   "display_name": "Python 2",
   "language": "python",
   "name": "python2"
  },
  "language_info": {
   "codemirror_mode": {
    "name": "ipython",
    "version": 2
   },
   "file_extension": ".py",
   "mimetype": "text/x-python",
   "name": "python",
   "nbconvert_exporter": "python",
   "pygments_lexer": "ipython2",
   "version": "2.7.13"
  }
 },
 "nbformat": 4,
 "nbformat_minor": 2
}
