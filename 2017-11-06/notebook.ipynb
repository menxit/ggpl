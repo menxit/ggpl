{
 "cells": [
  {
   "cell_type": "markdown",
   "metadata": {},
   "source": [
    "# Laboratorio 2017-11-06\n",
    "\n",
    "In questo homework è stato realizzata una chiesa basata su dei disegni di Leonardo Da Vinci.\n",
    "\n",
    "La chiesa è parametrizzata su:\n",
    "- dimensione della base\n",
    "- rapporto altezza e base (default 0.809)\n",
    "- numero di colonne laterali\n",
    "\n",
    "Nell'esempio in questione vengono mostrate 3 diverse istanze della chiesa:\n",
    "\n",
    "## Prima istanza (sinistra)\n",
    "In questa prima istanza, la chiesa appare decisamente sproporzionata. In questo caso è stato utilizzato un rapporto base altezza pari al doppio di PHI. Inoltre sono state inserite solo 4 colonne laterali.\n",
    "\n",
    "## Seconda istanza (destra)\n",
    "In questa seconda istanza, la chiesa appare più proporzionata. In questo caso è stato utilizzato un rapporto base altezza pari a PHI. Inoltre sono state inserite 8 colonne laterali.\n",
    "\n",
    "## Terza istanza (centrale)\n",
    "Questa terza istanza appare come la più proporzionata. E' stato utilizzato un rapporto altezza base pari alla metà di PHI e 8 colonne laterali."
   ]
  },
  {
   "cell_type": "markdown",
   "metadata": {},
   "source": [
    "![chiesa](assets/01.png)"
   ]
  },
  {
   "cell_type": "code",
   "execution_count": null,
   "metadata": {},
   "outputs": [
    {
     "name": "stdout",
     "output_type": "stream",
     "text": [
      "Evaluating fenvs.py..\n",
      "...fenvs.py imported in 0.007666 seconds\n"
     ]
    }
   ],
   "source": [
    "from pyplasm import *\n",
    "from lib.church import *\n",
    "\n",
    "VIEW(STRUCT([\n",
    "    HEX(\"#2C522E\")(CUBOID([100,100])),\n",
    "    HEX(\"#cecece\")(T(1)(50-10)(CUBOID([20,100]))),\n",
    "    HEX(\"#cecece\")(T(2)(50-10)(CUBOID([100, 20]))),\n",
    "    T([1, 2])([50, 50])(church(20, 8)),\n",
    "    T([1, 2])([90, 50])(church(10, 8, 1.618)),\n",
    "    T([1, 2])([10, 50])(church(10, 4, 2))\n",
    "]))\n",
    "\n",
    "quit()"
   ]
  }
 ],
 "metadata": {
  "kernelspec": {
   "display_name": "Python 2",
   "language": "python",
   "name": "python2"
  },
  "language_info": {
   "codemirror_mode": {
    "name": "ipython",
    "version": 2
   },
   "file_extension": ".py",
   "mimetype": "text/x-python",
   "name": "python",
   "nbconvert_exporter": "python",
   "pygments_lexer": "ipython2",
   "version": "2.7.14"
  }
 },
 "nbformat": 4,
 "nbformat_minor": 2
}
