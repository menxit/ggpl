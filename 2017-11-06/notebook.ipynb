{
 "cells": [
  {
   "cell_type": "markdown",
   "metadata": {},
   "source": [
    "# Laboratorio 2017-11-06\n",
    "\n",
    "In questo homework è stato realizzato una chiesa basata su dei disegni di Leonardo Da Vinci.\n",
    "\n",
    "La chiesa è parametrizzata sulla base di:\n",
    "- base della chiesa\n",
    "- altezza della chiesa\n",
    "- numero di colonne laterali"
   ]
  },
  {
   "cell_type": "markdown",
   "metadata": {},
   "source": [
    "![chiesa](assets/01.png)"
   ]
  },
  {
   "cell_type": "markdown",
   "metadata": {},
   "source": [
    "![chiesa](assets/02.png)"
   ]
  },
  {
   "cell_type": "code",
   "execution_count": 1,
   "metadata": {},
   "outputs": [
    {
     "name": "stdout",
     "output_type": "stream",
     "text": [
      "Evaluating fenvs.py..\n",
      "...fenvs.py imported in 0.00591 seconds\n"
     ]
    }
   ],
   "source": [
    "from pyplasm import *\n",
    "from lib.chiesa import *\n",
    "\n",
    "VIEW(STRUCT([\n",
    "    HEX(\"#2C522E\")(CUBOID([100,100])),\n",
    "    HEX(C1)(T(1)(50-10)(CUBOID([20,100]))),\n",
    "    HEX(C1)(T(2)(50-10)(CUBOID([100, 20]))),\n",
    "    T([1, 2])([50, 50])(chiesa(20, 20)),\n",
    "    T([1, 2])([90, 50])(chiesa(10, 10)),\n",
    "    T([1, 2])([10, 50])(chiesa(10, 8, 4))\n",
    "]))\n",
    "\n",
    "quit()"
   ]
  }
 ],
 "metadata": {
  "kernelspec": {
   "display_name": "Python 2",
   "language": "python",
   "name": "python2"
  },
  "language_info": {
   "codemirror_mode": {
    "name": "ipython",
    "version": 2
   },
   "file_extension": ".py",
   "mimetype": "text/x-python",
   "name": "python",
   "nbconvert_exporter": "python",
   "pygments_lexer": "ipython2",
   "version": "2.7.14"
  }
 },
 "nbformat": 4,
 "nbformat_minor": 2
}
