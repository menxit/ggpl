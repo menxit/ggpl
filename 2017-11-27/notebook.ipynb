{
 "cells": [
  {
   "cell_type": "markdown",
   "metadata": {},
   "source": [
    "# Laboratorio 2017-11-23"
   ]
  },
  {
   "cell_type": "markdown",
   "metadata": {},
   "source": [
    "## Trasformare file .lines in un grafo"
   ]
  },
  {
   "cell_type": "code",
   "execution_count": 1,
   "metadata": {
    "collapsed": true
   },
   "outputs": [],
   "source": [
    "import csv\n",
    "import math\n",
    "\n",
    "def linesToGraph(filePath):\n",
    "    \"\"\"\n",
    "    Questa funzione prende in input un file di linee e lo strasforma in un grafo\n",
    "\n",
    "    :param file:\n",
    "    :return:\n",
    "    \"\"\"\n",
    "    with open(filePath, \"rb\") as file:\n",
    "\n",
    "        reader = csv.reader(file, delimiter=\",\")\n",
    "\n",
    "        keys = {}\n",
    "        nodi = []\n",
    "        archi = []\n",
    "\n",
    "        i = 0\n",
    "\n",
    "        for row in reader:\n",
    "            \"\"\"\n",
    "            Effettuo l'approssimazione dei punti delle linee\n",
    "            \"\"\"\n",
    "            row0 = math.floor(float(row[0]) / 10) * 10\n",
    "            row1 = math.floor(float(row[1]) / 10) * 10\n",
    "            row2 = math.floor(float(row[2]) / 10) * 10\n",
    "            row3 = math.floor(float(row[3]) / 10) * 10\n",
    "\n",
    "            if not (row0, row1) in keys.keys():\n",
    "                keys[(row0, row1)] = i\n",
    "                nodi.append((row0, row1))\n",
    "                i = i + 1\n",
    "\n",
    "            if not (row2, row3) in keys.keys():\n",
    "                keys[(row2, row3)] = i\n",
    "                nodi.append((row2, row3))\n",
    "                i = i + 1\n",
    "\n",
    "            archi.append((keys[(row0, row1)], (keys[(row2, row3)])))\n",
    "\n",
    "    return (nodi, archi)"
   ]
  },
  {
   "cell_type": "markdown",
   "metadata": {
    "collapsed": true
   },
   "source": [
    "## Planimetria Villa Emo con grafo e MKPOLS"
   ]
  },
  {
   "cell_type": "code",
   "execution_count": 2,
   "metadata": {},
   "outputs": [
    {
     "name": "stdout",
     "output_type": "stream",
     "text": [
      "Evaluating fenvs.py..\n",
      "...fenvs.py imported in 0.005925 seconds\n"
     ]
    }
   ],
   "source": [
    "from lib import planimetria\n",
    "from larlib import VIEW\n",
    "\n",
    "VIEW(planimetria.villaEmo())\n",
    "quit()"
   ]
  }
 ],
 "metadata": {
  "kernelspec": {
   "display_name": "Python 2",
   "language": "python",
   "name": "python2"
  },
  "language_info": {
   "codemirror_mode": {
    "name": "ipython",
    "version": 2
   },
   "file_extension": ".py",
   "mimetype": "text/x-python",
   "name": "python",
   "nbconvert_exporter": "python",
   "pygments_lexer": "ipython2",
   "version": "2.7.14"
  }
 },
 "nbformat": 4,
 "nbformat_minor": 2
}
