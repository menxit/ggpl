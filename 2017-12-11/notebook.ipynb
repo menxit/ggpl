{
 "cells": [
  {
   "cell_type": "markdown",
   "metadata": {},
   "source": [
    "# Laboratorio 2017-12-04"
   ]
  },
  {
   "cell_type": "markdown",
   "metadata": {},
   "source": [
    "Definisco le variabili"
   ]
  },
  {
   "cell_type": "code",
   "execution_count": 1,
   "metadata": {},
   "outputs": [
    {
     "name": "stdout",
     "output_type": "stream",
     "text": [
      "Evaluating fenvs.py..\n",
      "...fenvs.py imported in 0.005902 seconds\n"
     ]
    }
   ],
   "source": [
    "from larlib import *\n",
    "\n",
    "r0 = 24.\n",
    "r2 = 48.\n",
    "r3 = 72.\n",
    "r4 = 88.\n",
    "wsteps = 10.\n",
    "nsteps = 10.\n",
    "wstep = wsteps / nsteps\n",
    "hstep = 1. / 3.\n",
    "hw4 = 29.\n",
    "hbasament = hstep * nsteps"
   ]
  },
  {
   "cell_type": "markdown",
   "metadata": {},
   "source": [
    "Definisco funzioni che mi torneranno utili in futuro:"
   ]
  },
  {
   "cell_type": "code",
   "execution_count": 2,
   "metadata": {
    "collapsed": true
   },
   "outputs": [],
   "source": [
    "\n",
    "\n",
    "# Mappa cilindrica\n",
    "def cylMap(dev=True):\n",
    "    if dev:\n",
    "        return MAP([lambda p: (p[1]) * math.cos(p[0]), lambda p: (p[1]) * math.sin(p[0]), lambda p: (p[2])])\n",
    "    else:\n",
    "        return MAP([lambda p: (p[1]) * math.sin(p[0]), lambda p: (p[1]) * math.cos(p[0]), lambda p: (p[2])])\n",
    "\n",
    "\n",
    "# Scala esterna\n",
    "def vdom(h):\n",
    "    return PROD([\n",
    "        COMP([\n",
    "            EMBED(1),\n",
    "            INTERVALS(PI * 3 / 24)\n",
    "        ])(3),\n",
    "        QUOTE([h])\n",
    "    ])\n",
    "\n",
    "\n",
    "def hdom(w):\n",
    "    return COMP([S(2)(-1), EMBED(1)])(PROD([INTERVALS(PI * 3 / 24)(3), QUOTE([w])]))\n",
    "\n",
    "\n",
    "def steps(w, h):\n",
    "    def steps1(n):\n",
    "        return COMP([STRUCT, CAT, N(n)])([vdom(h), T(3)(h), hdom(w), T(2)(-w)])\n",
    "\n",
    "    return steps1\n",
    "\n",
    "\n",
    "hbasament = hstep * nsteps\n",
    "\n",
    "stair = RIGHT([\n",
    "    COMP([MKPOL, UKPOL])(steps(wstep, hstep)(nsteps)),\n",
    "    COMP([S(2)(-1), SKEL_2, CUBOID])([PI / 24, wsteps, hbasament])\n",
    "])\n",
    "ramp = cylMap()(T(2)(r4)(stair))\n",
    "stairs = STRUCT(NN(12)([ramp, R([1, 2])(PI / 6)]))"
   ]
  },
  {
   "cell_type": "markdown",
   "metadata": {},
   "source": [
    "## Basamento\n",
    "![](./01.png)"
   ]
  },
  {
   "cell_type": "code",
   "execution_count": 3,
   "metadata": {},
   "outputs": [
    {
     "data": {
      "text/plain": [
       "<pyplasm.xgepy.Hpc; proxy of <Swig Object of type 'std::shared_ptr< Hpc > *' at 0x1820f8f150> >"
      ]
     },
     "execution_count": 3,
     "metadata": {},
     "output_type": "execute_result"
    }
   ],
   "source": [
    "basisSector = COMP([cylMap(False), EMBED(1)])(\n",
    "    PROD([INTERVALS(2 * PI / 12)(4), INTERVALS(r4 - (wstep * (nsteps - 1)))(1)]))\n",
    "basis = COMP([STRUCT, NN(12)])([basisSector, R([1, 2])(2 * PI / 12)])\n",
    "basement = COMP([R([1, 2])(PI / -48), STRUCT])([stairs, T(3)(hstep * nsteps), basis])\n",
    "VIEW(basement)"
   ]
  },
  {
   "cell_type": "markdown",
   "metadata": {},
   "source": [
    "## Muro esterno\n",
    "![](./02.png)"
   ]
  },
  {
   "cell_type": "code",
   "execution_count": 4,
   "metadata": {},
   "outputs": [
    {
     "data": {
      "text/plain": [
       "<pyplasm.xgepy.Hpc; proxy of <Swig Object of type 'std::shared_ptr< Hpc > *' at 0x1820f8f5a0> >"
      ]
     },
     "execution_count": 4,
     "metadata": {},
     "output_type": "execute_result"
    }
   ],
   "source": [
    "ExtWall2Da = INTERSECTION([\n",
    "    MKPOL([[[0, 0], [7, 0], [7, 5], [0, 8], [7, 3], [9, 4], [10.5, 1.5], [10.5, 0], [11, 1.5], [11, 3]],\n",
    "           [range(1, 5), [2, 8, 7, 6, 5], [6, 7, 9, 10]], [[1], [2], [3]]]),\n",
    "    PROD([COMP([QUOTE, N(12)])(1), Q(8)])\n",
    "])\n",
    "\n",
    "ExtWall2Db = INTERSECTION([\n",
    "    MKPOL([[[0.5, 0], [4, 0], [5, 0], [6, 0], [6, 3], [5.5, 3.5], [5, 3], [4.5, 3.5], [4, 3], [2, 4], [0, 3], [0, 1.5],\n",
    "            [0.5, 1.5]], [[10, 11, 12, 13], [1, 2, 9, 10, 13], [2, 3, 7, 8, 9], [3, 4, 5, 6, 7]], range(1, 5)]),\n",
    "    PROD([COMP([QUOTE, N(6)])(1), Q(4)])\n",
    "])\n",
    "\n",
    "ExtWall2D = STRUCT([ExtWall2Da, T(1)(11), ExtWall2Db])\n",
    "\n",
    "sizxExtWall = SIZE(1)(ExtWall2D)\n",
    "\n",
    "ExtWall = R([2, 3])(PI / 2)(PROD([ExtWall2D, QUOTE([1.5])]))\n",
    "\n",
    "CurvedExtWall = COMP([cylMap(False), T(2)(r3), S([1, 3])([PI / (4 * sizxExtWall), hw4 / 8])])(ExtWall)\n",
    "\n",
    "DoubleExtWall = STRUCT([CurvedExtWall, S(1)(-1), CurvedExtWall])\n",
    "\n",
    "FullExtWall = COMP([STRUCT, NN(4)])([DoubleExtWall, R([1, 2])(PI / 2)])\n",
    "\n",
    "VIEW(FullExtWall)"
   ]
  },
  {
   "cell_type": "markdown",
   "metadata": {},
   "source": [
    "## Colonne intermedie\n",
    "![](./03.png)"
   ]
  },
  {
   "cell_type": "code",
   "execution_count": 5,
   "metadata": {},
   "outputs": [
    {
     "data": {
      "text/plain": [
       "<pyplasm.xgepy.Hpc; proxy of <Swig Object of type 'std::shared_ptr< Hpc > *' at 0x1821043510> >"
      ]
     },
     "execution_count": 5,
     "metadata": {},
     "output_type": "execute_result"
    }
   ],
   "source": [
    "\n",
    "hCol = 12.\n",
    "\n",
    "\n",
    "def Column(args):\n",
    "    w, h = args\n",
    "    basis = CUBOID([w, w, 2. * w / 3.])\n",
    "    trunk = CYLINDER([w / 2. * .85, h - w])(8)\n",
    "    capitel = CUBOID([w, w, w / 3.])\n",
    "    return TOP([TOP([basis, trunk]), capitel])\n",
    "\n",
    "\n",
    "arcAngle = 2. * PI / 50.4\n",
    "wallAngle = -3.2 * arcAngle / 4.\n",
    "RotCross = 3.2 * arcAngle / 4. + 2.5 * arcAngle\n",
    "\n",
    "MyColumn = COMP([MKPOL, UKPOL, T(2)(r2 - .75), Column])([1.5, hCol])\n",
    "\n",
    "The4cols = COMP([R([1, 2])(arcAngle * .4 / 3.2), MKPOL, UKPOL, STRUCT, NN(4)])([R([1, 2])(DIFF(arcAngle)), MyColumn])\n",
    "\n",
    "The5Cols = COMP([R([1, 2])(arcAngle * .4 / 3.2), MKPOL, UKPOL, STRUCT, NN(5)])([R([1, 2])(DIFF(arcAngle)), MyColumn])\n",
    "\n",
    "TheBotWal = COMP([cylMap(False), MKPOL, UKPOL, T(2)(r2 - .75), CUBOID])([3.2 * arcAngle / 4, 1.5, hCol])\n",
    "\n",
    "TheSecCols = STRUCT([\n",
    "    R([1, 2])(RotCross),\n",
    "    TheBotWal, R([1, 2])(wallAngle),\n",
    "    The4cols, R([1, 2])(-5 * arcAngle),\n",
    "    TheBotWal, R([1, 2])(wallAngle),\n",
    "    The5Cols\n",
    "])\n",
    "\n",
    "TheMedColumns = COMP([STRUCT, NN(4)])([TheSecCols, R([1, 2])(PI / -2.)])\n",
    "VIEW(TheMedColumns)"
   ]
  },
  {
   "cell_type": "markdown",
   "metadata": {},
   "source": [
    "## Archi sulle colonne\n",
    "![](./04.png)"
   ]
  },
  {
   "cell_type": "code",
   "execution_count": 7,
   "metadata": {},
   "outputs": [
    {
     "data": {
      "text/plain": [
       "<pyplasm.xgepy.Hpc; proxy of <Swig Object of type 'std::shared_ptr< Hpc > *' at 0x1821043270> >"
      ]
     },
     "execution_count": 7,
     "metadata": {},
     "output_type": "execute_result"
    }
   ],
   "source": [
    "\n",
    "def bottomArc(d):\n",
    "    return BEZIER(S1)([[0, 0], [0, 2 * d / 3], [d, 2 * d / 3], [d, 0]])\n",
    "\n",
    "\n",
    "def topArc(d):\n",
    "    return BEZIER(S1)([[0, 2 * d / 3], [d, 2 * d / 3]])\n",
    "\n",
    "\n",
    "def arc2D(d):\n",
    "    return BEZIER(S2)([bottomArc(d), topArc(d)])\n",
    "\n",
    "\n",
    "def arc3D(d):\n",
    "    def arc3D1(w):\n",
    "        arco = arc2D(3.2)\n",
    "        dominio = PROD([INTERVALS(1)(8), INTERVALS(1)(1)])\n",
    "        ar = MAP(arco)(dominio)\n",
    "        domin = PROD([ar, QUOTE([1.5])])\n",
    "        return COMP([T(2)(w), R([2, 3])(PI / 2)])(domin)\n",
    "\n",
    "    return arc3D1\n",
    "\n",
    "\n",
    "def Interarc(d1, d2):\n",
    "    def Interarc1(w):\n",
    "        return CUBOID([d1, w, 2 * d2 / 3])\n",
    "\n",
    "    return Interarc1\n",
    "\n",
    "\n",
    "def Xarc(d1, d2):\n",
    "    def Xarc1(w):\n",
    "        return RIGHT([RIGHT([Interarc(d1, d2)(w), arc3D(d2)(w)]), Interarc(d1, d2)(w)])\n",
    "\n",
    "    return Xarc1\n",
    "\n",
    "\n",
    "TheArc = Xarc(0.4, 3.2)(1.5)\n",
    "SizeArc = SIZE(1)(TheArc)\n",
    "sx = (1 / SizeArc) * arcAngle\n",
    "sz = sx * (r2 - 2)\n",
    "\n",
    "CurvedArc = COMP([cylMap(False), MKPOL, UKPOL, T(2)(r2 - .75), S([1, 3])([sx, sz])])(TheArc)\n",
    "HeigthArc = SIZE(3)(CurvedArc)\n",
    "\n",
    "The5arcs = COMP([MKPOL, UKPOL, STRUCT, NN(5)])([CurvedArc, R([1, 2])(-arcAngle)])\n",
    "The6arcs = COMP([MKPOL, UKPOL, STRUCT, NN(6)])([CurvedArc, R([1, 2])(-arcAngle)])\n",
    "TheMidWall = COMP([cylMap(False), MKPOL, UKPOL, T(2)(r2 - .75), CUBOID])([3.2 * arcAngle / 4, 1.5, HeigthArc])\n",
    "TheSector = STRUCT(\n",
    "    [R([1, 2])(RotCross), TheMidWall, R([1, 2])(wallAngle), The5arcs, R([1, 2])(-5 * arcAngle), TheMidWall,\n",
    "     R([1, 2])(wallAngle), The6arcs])\n",
    "TheArcs = COMP([STRUCT, NN(4)])([TheSector, R([1, 2])(PI / -2)])\n",
    "TheArcsCols = STRUCT([TheMedColumns, T(3)(hCol), TheArcs])\n",
    "VIEW(TheArcsCols)"
   ]
  },
  {
   "cell_type": "markdown",
   "metadata": {},
   "source": [
    "## Muro intermedio superiore\n",
    "![](./05.png)"
   ]
  },
  {
   "cell_type": "code",
   "execution_count": 8,
   "metadata": {},
   "outputs": [
    {
     "data": {
      "text/plain": [
       "<pyplasm.xgepy.Hpc; proxy of <Swig Object of type 'std::shared_ptr< Hpc > *' at 0x1827df48a0> >"
      ]
     },
     "execution_count": 8,
     "metadata": {},
     "output_type": "execute_result"
    }
   ],
   "source": [
    "MedWall2D = INTERSECTION([MKPOL(\n",
    "    [[[0, 4], [8, 4], [17, 4], [17, 5], [12.5, 7.5], [8, 5], [0, 8]], [[1, 2, 6, 7], [2, 3, 4, 5, 6]], [[1], [2]]]),\n",
    "    PROD([COMP([QUOTE, N(17)])(1), QUOTE([8])])])\n",
    "sizxMedWall = SIZE(1)(MedWall2D)\n",
    "MedWall = R([2, 3])(PI / 2)(PROD([MedWall2D, QUOTE([1.5])]))\n",
    "CurvedMedWall = COMP([cylMap(), MKPOL, UKPOL, T(2)(r2 + 0.75), S([1, 3])([PI / (4 * sizxMedWall), hw4 / 8])])(MedWall)\n",
    "DoubleMedWall = STRUCT([CurvedMedWall, S(1)(-1)(CurvedMedWall)])\n",
    "FullMedWall = COMP([STRUCT, NN(4)])([DoubleMedWall, R([1, 2])(PI / 2)])\n",
    "MedWallArcs = STRUCT([FullMedWall, TheArcsCols])\n",
    "VIEW(MedWallArcs)"
   ]
  },
  {
   "cell_type": "markdown",
   "metadata": {},
   "source": [
    "## Muri laterali della croce\n",
    "![](./06.png)"
   ]
  },
  {
   "cell_type": "code",
   "execution_count": 10,
   "metadata": {},
   "outputs": [
    {
     "data": {
      "text/plain": [
       "<pyplasm.xgepy.Hpc; proxy of <Swig Object of type 'std::shared_ptr< Hpc > *' at 0x1827df4780> >"
      ]
     },
     "execution_count": 10,
     "metadata": {},
     "output_type": "execute_result"
    }
   ],
   "source": [
    "CrossWall = COMP([T(1)(-1), R([1, 2])(0.2 * arcAngle), S(3)(hw4 / 8), CUBOID])([1.5, r3 - r2, 5])\n",
    "SingleWall = COMP([R([1, 2])(2.5 * arcAngle), T(2)(r2)])(CrossWall)\n",
    "DoubleWall = STRUCT([SingleWall, S(1)(-1), SingleWall])\n",
    "CrossWalls = COMP([STRUCT, NN(4)])([DoubleWall, R([1, 2])(PI / 2)])\n",
    "VIEW(CrossWalls)"
   ]
  },
  {
   "cell_type": "markdown",
   "metadata": {},
   "source": [
    "## Tetto sulla croce\n",
    "![](./07.png)"
   ]
  },
  {
   "cell_type": "code",
   "execution_count": 12,
   "metadata": {},
   "outputs": [
    {
     "data": {
      "text/plain": [
       "<pyplasm.xgepy.Hpc; proxy of <Swig Object of type 'std::shared_ptr< Hpc > *' at 0x1827df4690> >"
      ]
     },
     "execution_count": 12,
     "metadata": {},
     "output_type": "execute_result"
    }
   ],
   "source": [
    "HalfTetto = MKPOL([[[0, r2, 8], [8, r2, 5], [8, r3, 5], [0, r3, 8]], [[1, 2, 3, 4]], []])\n",
    "CurvedHalfTetto = COMP([cylMap(), S([1, 3])([2.5 * arcAngle / 8, hw4 / 8])])(HalfTetto)\n",
    "DoubleHalfTetto = STRUCT([CurvedHalfTetto, S(1)(-1)(CurvedHalfTetto)])\n",
    "FullTetto = COMP([STRUCT, NN(4)])([DoubleHalfTetto, R([1, 2])(PI / -2)])\n",
    "VIEW(FullTetto)"
   ]
  },
  {
   "cell_type": "markdown",
   "metadata": {},
   "source": [
    "## Muro con Triplice apertura\n",
    "![](./08.png)"
   ]
  },
  {
   "cell_type": "code",
   "execution_count": 13,
   "metadata": {},
   "outputs": [
    {
     "data": {
      "text/plain": [
       "<pyplasm.xgepy.Hpc; proxy of <Swig Object of type 'std::shared_ptr< Hpc > *' at 0x1827df4540> >"
      ]
     },
     "execution_count": 13,
     "metadata": {},
     "output_type": "execute_result"
    }
   ],
   "source": [
    "def CourtWall(d1, d2):\n",
    "    def CourtWall1(n1, n2):\n",
    "        w = 0.7\n",
    "        TripleHole = TOP([STRUCT([Column([w, 2]), T(1)(2 + w), Column([w, 2])]), Xarc(2, 2)(1)])\n",
    "        h = SIZE(3)(TripleHole)\n",
    "        op = ALIGN([[1, MAX, MIN], [2, MIN, MIN]])\n",
    "        LeftWall = PROD([COMP([QUOTE, N(n1)])(d1 / n1), CUBOID([1, h])])\n",
    "        RightWall = PROD([COMP([QUOTE, N(n2)])(d2 / n2), CUBOID([1, h])])\n",
    "        return op([op([LeftWall, TripleHole]), RightWall])\n",
    "\n",
    "    return CourtWall1\n",
    "\n",
    "MyCourtWall = CourtWall(12, 12)(9, 9)\n",
    "sizxCourtWall = SIZE(1)(MyCourtWall)\n",
    "mapping = COMP([cylMap(False), S([1, 3])([(7.25 * PI / 24) * (1 / sizxCourtWall), hw4 / 8])])\n",
    "CurvedCourtWall = COMP([OPTIMIZE, R([1, 2])(-2.5 * arcAngle), mapping, T(2)((r3 + r2) / 2)])(MyCourtWall)\n",
    "CrossCourtWall = COMP([STRUCT, NN(4)])([CurvedCourtWall, R([1, 2])(PI / 2)])\n",
    "\n",
    "VIEW(CrossCourtWall)"
   ]
  },
  {
   "cell_type": "markdown",
   "metadata": {},
   "source": [
    "## Coronamento Muro Cortile interno\n",
    "![](./09.png)"
   ]
  },
  {
   "cell_type": "code",
   "execution_count": 15,
   "metadata": {},
   "outputs": [
    {
     "data": {
      "text/plain": [
       "<pyplasm.xgepy.Hpc; proxy of <Swig Object of type 'std::shared_ptr< Hpc > *' at 0x1827df43f0> >"
      ]
     },
     "execution_count": 15,
     "metadata": {},
     "output_type": "execute_result"
    }
   ],
   "source": [
    "TopCourtWall2D = INTERSECTION(\n",
    "    [MKPOL([[[0, 3.333], [10, 3.333], [10, 4.333], [5, 6.333], [0, 4.333]], [range(1, 5)], [[1]]]),\n",
    "     PROD([COMP([QUOTE, N(10)])(1), QUOTE([8])])])\n",
    "TopCourtWall = R([2, 3])(PI / 2)(PROD([TopCourtWall2D, QUOTE([1])]))\n",
    "MyTopCourtWall = RIGHT([TopCourtWall, RIGHT([TopCourtWall, TopCourtWall])])\n",
    "CurvedTopCourtWall = COMP([R([1, 2])(-2.5 * arcAngle), mapping, T(2)((r3 + r2 + 2) / 2)])(MyTopCourtWall)\n",
    "FullTopCourtWall = COMP([STRUCT, NN(4)])([CurvedTopCourtWall, R([1, 2])(PI / 2)])\n",
    "VIEW(FullTopCourtWall)"
   ]
  },
  {
   "cell_type": "markdown",
   "metadata": {},
   "source": [
    "## Tetto su Cortile interno\n",
    "![](./10.png)"
   ]
  },
  {
   "cell_type": "code",
   "execution_count": 17,
   "metadata": {},
   "outputs": [
    {
     "data": {
      "text/plain": [
       "<pyplasm.xgepy.Hpc; proxy of <Swig Object of type 'std::shared_ptr< Hpc > *' at 0x1827d46f60> >"
      ]
     },
     "execution_count": 17,
     "metadata": {},
     "output_type": "execute_result"
    }
   ],
   "source": [
    "RotWall = 2.5 * arcAngle\n",
    "CourTetto = INTERSECTION([MKPOL([[[0, (r3 + r2 + 2) / 2, 3.333], [10, (r3 + r2 + 2) / 2, 3.333], [10, r2, 4.333],\n",
    "                                  [0, r2, 4.333], [0, (r3 + r2 + 2) / 2, 3.433], [10, (r3 + r2 + 2) / 2, 3.433],\n",
    "                                  [10, r2, 4.433], [0, r2, 4.433]], [range(1, 9)], [[1]]]),\n",
    "                          PROD([COMP([QUOTE, N(10)])(1), PROD([QUOTE([(r3 + r2 + 2) / 2]), QUOTE([5])])])])\n",
    "\n",
    "MyCourTetto = RIGHT([RIGHT([CourTetto, CourTetto]), CourTetto])\n",
    "CurvedCourTetto = COMP([R([1, 2])(DIFF(RotWall)), mapping])(MyCourTetto)\n",
    "FullCourTetto = COMP([STRUCT, NN(4)])([CurvedCourTetto, R([1, 2])(PI / 2)])\n",
    "VIEW(FullCourTetto)"
   ]
  },
  {
   "cell_type": "markdown",
   "metadata": {},
   "source": [
    "## Colonne muro interno\n",
    "![](./11.png)"
   ]
  },
  {
   "cell_type": "code",
   "execution_count": 18,
   "metadata": {},
   "outputs": [
    {
     "data": {
      "text/plain": [
       "<pyplasm.xgepy.Hpc; proxy of <Swig Object of type 'std::shared_ptr< Hpc > *' at 0x1827db2240> >"
      ]
     },
     "execution_count": 18,
     "metadata": {},
     "output_type": "execute_result"
    }
   ],
   "source": [
    "def Radial22Obj(Obj):\n",
    "    The4Obj = COMP([STRUCT, NN(4)])([Obj, R([1, 2])(PI / 11)])\n",
    "    The2Obj = COMP([STRUCT, NN(2)])([Obj, R([1, 2])(PI / 11)])\n",
    "    The20Obj = COMP([STRUCT, NN(5)])([The4Obj, R([1, 2])((4 * PI) / 11)])\n",
    "    return STRUCT([The20Obj, R([1, 2])((20 * PI) / 11), The2Obj])\n",
    "\n",
    "\n",
    "InternalCol = COMP([MKPOL, UKPOL, T(2)((r0 - 2)), Column])([1.5, hCol])\n",
    "The22Columns = Radial22Obj(InternalCol)\n",
    "VIEW(The22Columns)"
   ]
  },
  {
   "cell_type": "markdown",
   "metadata": {},
   "source": [
    "## Travi muro interno\n",
    "![](./12.png)"
   ]
  },
  {
   "cell_type": "code",
   "execution_count": 19,
   "metadata": {},
   "outputs": [
    {
     "data": {
      "text/plain": [
       "<pyplasm.xgepy.Hpc; proxy of <Swig Object of type 'std::shared_ptr< Hpc > *' at 0x1827db21e0> >"
      ]
     },
     "execution_count": 19,
     "metadata": {},
     "output_type": "execute_result"
    }
   ],
   "source": [
    "Beam = PROD([QUOTE([-0.5, 1.5, 2, 1.5]), PROD([QUOTE([2.2]), QUOTE([1.5])])])\n",
    "CurvedBeam = COMP([cylMap(), T([2, 3])([(r0 - 2), hCol]), S(1)(PI / (11 * 5))])(Beam)\n",
    "The22Beams = Radial22Obj(CurvedBeam)\n",
    "VIEW(The22Beams)"
   ]
  },
  {
   "cell_type": "markdown",
   "metadata": {},
   "source": [
    "## Muro interno superiore\n",
    "![](./13.png)"
   ]
  },
  {
   "cell_type": "code",
   "execution_count": 21,
   "metadata": {},
   "outputs": [
    {
     "data": {
      "text/plain": [
       "<pyplasm.xgepy.Hpc; proxy of <Swig Object of type 'std::shared_ptr< Hpc > *' at 0x1827db2060> >"
      ]
     },
     "execution_count": 21,
     "metadata": {},
     "output_type": "execute_result"
    }
   ],
   "source": [
    "Hwall = STRUCT([\n",
    "    INSR(PROD)([QUOTE([-0.5, 1.5, -2, 1.5]), QUOTE([-0.3, 1.4]), QUOTE([2.5 * hCol])]),\n",
    "    INSR(PROD)([QUOTE([-2.0, 2]), QUOTE([-0.3, 1.4]), QUOTE([1.5 * hCol, -0.5 * hCol, 0.5 * hCol])]),\n",
    "    INSR(PROD)([QUOTE([-2.25, 1.5]), QUOTE([-0.3, 1.4]), QUOTE([1.5 * hCol, -0.5 * hCol, 0.5 * hCol])])\n",
    "])\n",
    "\n",
    "CurvedHwall = COMP([cylMap(False), T([2, 3])([r0 - 2, hCol]), S(1)(PI / (11 * 5))])(Hwall)\n",
    "\n",
    "The22Hwall = Radial22Obj(CurvedHwall)\n",
    "VIEW(The22Hwall)"
   ]
  },
  {
   "cell_type": "markdown",
   "metadata": {},
   "source": [
    "## Coronamento superiore muro interno\n",
    "![](./14.png)"
   ]
  },
  {
   "cell_type": "code",
   "execution_count": 23,
   "metadata": {},
   "outputs": [
    {
     "data": {
      "text/plain": [
       "<pyplasm.xgepy.Hpc; proxy of <Swig Object of type 'std::shared_ptr< Hpc > *' at 0x1827db2a80> >"
      ]
     },
     "execution_count": 23,
     "metadata": {},
     "output_type": "execute_result"
    }
   ],
   "source": [
    "myArc = MAP([COMP([SIN, S1]), COMP([COS, S1])])(QUOTE(N(5)(PI / 10)))\n",
    "Vertex = MKPOL([[[0, 0]], [[1]], [[1]]])\n",
    "Sector = JOIN([myArc, Vertex])\n",
    "Triangle = S(1)(-1)(SIMPLEX(2))\n",
    "SectorTriangle2D = STRUCT([T(1)(0.05), Sector, T(1)(2), Triangle])\n",
    "DoubleSect = STRUCT([SectorTriangle2D, S(1)(-1)(SectorTriangle2D)])\n",
    "Sect2D = S(1)(2 / 2.05)(DoubleSect)\n",
    "Sect3D = R([2, 3])(PI / 2)(PROD([Sect2D, QUOTE([0.8])]))\n",
    "CurvedSect = COMP([cylMap(False), T(2)(r0), S([1, 3])([(2 * PI) / (11 * 4), 3])])(Sect3D)\n",
    "Frieze = T(3)(3.5 * hCol)(CurvedSect)\n",
    "\n",
    "\n",
    "def Radial11Obj(Obj):\n",
    "    The2Obj = COMP([STRUCT, NN(2)])([Obj, R([1, 2])((2 * PI) / 11)])\n",
    "    The10Obj = COMP([STRUCT, NN(5)])([The2Obj, R([1, 2])((4 * PI) / 11)])\n",
    "    return STRUCT([The10Obj, R([1, 2])((20 * PI) / 11), Obj])\n",
    "\n",
    "\n",
    "The11Frieze = Radial11Obj(Frieze)\n",
    "VIEW(The11Frieze)"
   ]
  },
  {
   "cell_type": "markdown",
   "metadata": {},
   "source": [
    "## Traliccio Tetto interno\n",
    "![](./15.png)"
   ]
  },
  {
   "cell_type": "code",
   "execution_count": 26,
   "metadata": {},
   "outputs": [
    {
     "data": {
      "text/plain": [
       "<pyplasm.xgepy.Hpc; proxy of <Swig Object of type 'std::shared_ptr< Hpc > *' at 0x1827e21960> >"
      ]
     },
     "execution_count": 26,
     "metadata": {},
     "output_type": "execute_result"
    }
   ],
   "source": [
    "def Trellis(v):\n",
    "    H, L = v\n",
    "    return COMP([R([2, 3])(PI / 2.), EMBED(1), MKPOL])(\n",
    "        [[[0, 0], [L / 3, 0], [2 * L / 3, 0], [L, 0], [2 * L / 3, H / 3], [L / 3, 2 * H / 3], [0, H]],\n",
    "         [[1, 2], [2, 3], [3, 4], [4, 5], [5, 6], [6, 7], [7, 1], [1, 6], [6, 2], [2, 5], [5, 3]],\n",
    "         [1, 2, 3, 4, 5, 6, 7, 8, 9, 10, 11]])\n",
    "\n",
    "\n",
    "def Radial(n):\n",
    "    def Radial1(obj):\n",
    "        return COMP([STRUCT, NN(3)])([\n",
    "            COMP([STRUCT, NN(n / 3)])([obj, R([1, 2])(2 * PI / n)]),\n",
    "            R([1, 2])(2 * PI / 3)\n",
    "        ])\n",
    "\n",
    "    return Radial1\n",
    "\n",
    "\n",
    "TrellisTop3D = COMP([T(2)(-.25), S(2)(.5), OFFSET([1, 1, 1]), Trellis])([hCol, r0 - 1])\n",
    "\n",
    "TheTopTrellis = T(3)(3.5 * hCol)(TrellisTop3D)\n",
    "\n",
    "TopTrellis = Radial(12)(TheTopTrellis)\n",
    "VIEW(TopTrellis)"
   ]
  },
  {
   "cell_type": "markdown",
   "metadata": {},
   "source": [
    "## Traliccio Tetto intermedio\n",
    "![](./16.png)"
   ]
  },
  {
   "cell_type": "code",
   "execution_count": 27,
   "metadata": {},
   "outputs": [
    {
     "data": {
      "text/plain": [
       "<pyplasm.xgepy.Hpc; proxy of <Swig Object of type 'std::shared_ptr< Hpc > *' at 0x1827e21540> >"
      ]
     },
     "execution_count": 27,
     "metadata": {},
     "output_type": "execute_result"
    }
   ],
   "source": [
    "TrellisMed3D = COMP([T(2)(-0.25), S(2)(0.5), OFFSET([1, 1, 1]), Trellis])([hCol, r2 - r0])\n",
    "TheMedTrellis = T(3)(hCol + 3)(TrellisMed3D)\n",
    "MedTrellis = Radial(24)(T(1)(r0)(TheMedTrellis))\n",
    "DoubleMedTrellis = STRUCT([MedTrellis, R([1, 2])(PI / 24), MedTrellis])\n",
    "VIEW(DoubleMedTrellis)"
   ]
  },
  {
   "cell_type": "markdown",
   "metadata": {},
   "source": [
    "## Risultato finale\n",
    "![](./17.png)"
   ]
  },
  {
   "cell_type": "code",
   "execution_count": 30,
   "metadata": {},
   "outputs": [
    {
     "data": {
      "text/plain": [
       "<pyplasm.xgepy.Hpc; proxy of <Swig Object of type 'std::shared_ptr< Hpc > *' at 0x1827e21660> >"
      ]
     },
     "execution_count": 30,
     "metadata": {},
     "output_type": "execute_result"
    }
   ],
   "source": [
    "VIEW(STRUCT([basement, T(3)(hbasament), FullExtWall, FullTetto, CrossCourtWall, CrossWalls, MedWallArcs, TheMedColumns,\n",
    "             FullTopCourtWall, FullCourTetto, The22Columns, The22Beams, The22Hwall, The11Frieze, TopTrellis,\n",
    "             DoubleMedTrellis]))"
   ]
  },
  {
   "cell_type": "code",
   "execution_count": 31,
   "metadata": {
    "collapsed": true
   },
   "outputs": [],
   "source": [
    "quit()"
   ]
  },
  {
   "cell_type": "code",
   "execution_count": null,
   "metadata": {
    "collapsed": true
   },
   "outputs": [],
   "source": []
  }
 ],
 "metadata": {
  "kernelspec": {
   "display_name": "Python 2",
   "language": "python",
   "name": "python2"
  },
  "language_info": {
   "codemirror_mode": {
    "name": "ipython",
    "version": 2
   },
   "file_extension": ".py",
   "mimetype": "text/x-python",
   "name": "python",
   "nbconvert_exporter": "python",
   "pygments_lexer": "ipython2",
   "version": "2.7.14"
  }
 },
 "nbformat": 4,
 "nbformat_minor": 2
}
